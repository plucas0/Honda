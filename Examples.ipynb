{
 "cells": [
  {
   "cell_type": "markdown",
   "id": "cdc8c97a-db11-4945-80c2-b72dcd72ceeb",
   "metadata": {},
   "source": [
    "### Examples"
   ]
  },
  {
   "cell_type": "code",
   "execution_count": 29,
   "id": "571f5ba4-93b6-4b4b-8a33-7d6fb0a8d803",
   "metadata": {},
   "outputs": [],
   "source": [
    "%display latex"
   ]
  },
  {
   "cell_type": "markdown",
   "id": "0aa4518c-56f5-428e-b8a0-021453680b9c",
   "metadata": {
    "jp-MarkdownHeadingCollapsed": true
   },
   "source": [
    "#### Small nontrivial algebraic example"
   ]
  },
  {
   "cell_type": "code",
   "execution_count": 30,
   "id": "5110445a-80fc-459f-9826-cc7c3512e965",
   "metadata": {},
   "outputs": [],
   "source": [
    "A.<x> = QQ[]\n",
    "a = 3*x-4\n",
    "b = 2*(x^2-3*x+2) # a/b has rational residues\n",
    "bb = b/2 # 2 is the content of b"
   ]
  },
  {
   "cell_type": "code",
   "execution_count": 31,
   "id": "19697525-cb0c-4ac3-9980-0719efdd7fb9",
   "metadata": {},
   "outputs": [
    {
     "name": "stdout",
     "output_type": "stream",
     "text": [
      "CPU times: user 2.25 ms, sys: 24 μs, total: 2.28 ms\n",
      "Wall time: 2.29 ms\n"
     ]
    },
    {
     "data": {
      "text/html": [
       "<html>\\(\\displaystyle 3269291615\\)</html>"
      ],
      "text/latex": [
       "$\\displaystyle 3269291615$"
      ],
      "text/plain": [
       "3269291615"
      ]
     },
     "execution_count": 31,
     "metadata": {},
     "output_type": "execute_result"
    }
   ],
   "source": [
    "%time sigma(a,b)"
   ]
  },
  {
   "cell_type": "code",
   "execution_count": 32,
   "id": "693e6ca1-72bc-4899-b647-93a7e313fa50",
   "metadata": {},
   "outputs": [
    {
     "name": "stdout",
     "output_type": "stream",
     "text": [
      "CPU times: user 2.02 ms, sys: 0 ns, total: 2.02 ms\n",
      "Wall time: 2.02 ms\n"
     ]
    },
    {
     "data": {
      "text/html": [
       "<html>\\(\\displaystyle 265\\)</html>"
      ],
      "text/latex": [
       "$\\displaystyle 265$"
      ],
      "text/plain": [
       "265"
      ]
     },
     "execution_count": 32,
     "metadata": {},
     "output_type": "execute_result"
    }
   ],
   "source": [
    "%time sigma(a,bb)"
   ]
  },
  {
   "cell_type": "markdown",
   "id": "9540fc2e-db9d-44dd-ad54-28fcfd1bb5b7",
   "metadata": {},
   "source": [
    "Highlights the importance of dividing by content, running Honda(a,b) will never finish, but Honda(a,bb) will and with the same output."
   ]
  },
  {
   "cell_type": "code",
   "execution_count": 33,
   "id": "bda7d421-2159-47cd-b0b3-4a3804cfe1ee",
   "metadata": {},
   "outputs": [
    {
     "name": "stdout",
     "output_type": "stream",
     "text": [
      "CPU times: user 27.9 ms, sys: 9 μs, total: 27.9 ms\n",
      "Wall time: 27.3 ms\n"
     ]
    },
    {
     "data": {
      "text/html": [
       "<html>\\(\\displaystyle \\left(\\verb|algebraic|, 0\\right)\\)</html>"
      ],
      "text/latex": [
       "$\\displaystyle \\left(\\verb|algebraic|, 0\\right)$"
      ],
      "text/plain": [
       "('algebraic', 0)"
      ]
     },
     "execution_count": 33,
     "metadata": {},
     "output_type": "execute_result"
    }
   ],
   "source": [
    "%time Honda(a,bb)"
   ]
  },
  {
   "cell_type": "code",
   "execution_count": 34,
   "id": "4b0ac61c-c5b6-46a2-aa60-323dc9ee1281",
   "metadata": {},
   "outputs": [
    {
     "name": "stdout",
     "output_type": "stream",
     "text": [
      "CPU times: user 954 μs, sys: 0 ns, total: 954 μs\n",
      "Wall time: 959 μs\n"
     ]
    },
    {
     "data": {
      "text/html": [
       "<html>\\(\\displaystyle \\verb|algebraic|\\)</html>"
      ],
      "text/latex": [
       "$\\displaystyle \\verb|algebraic|$"
      ],
      "text/plain": [
       "'algebraic'"
      ]
     },
     "execution_count": 34,
     "metadata": {},
     "output_type": "execute_result"
    }
   ],
   "source": [
    "%time CompFactor(a,b)"
   ]
  },
  {
   "cell_type": "markdown",
   "id": "36695a7a-f9f5-44c9-9ad2-18da9ba68572",
   "metadata": {},
   "source": [
    "For algebraic examples, factorization is faster even for small examples."
   ]
  },
  {
   "cell_type": "markdown",
   "id": "c0a6365c-d829-4f08-b07b-a24bcfbf47ef",
   "metadata": {
    "jp-MarkdownHeadingCollapsed": true
   },
   "source": [
    "#### $1/(x^2-c)$"
   ]
  },
  {
   "cell_type": "code",
   "execution_count": 36,
   "id": "613a454b-212b-4158-b791-62a2ec687bb2",
   "metadata": {},
   "outputs": [],
   "source": [
    "A.<x> = QQ[]"
   ]
  },
  {
   "cell_type": "code",
   "execution_count": 37,
   "id": "22f11534-f4a0-4541-9f21-ae1beff4ea3a",
   "metadata": {},
   "outputs": [],
   "source": [
    "a = 1\n",
    "b = x^2 - 3818929"
   ]
  },
  {
   "cell_type": "markdown",
   "id": "a45c62bf-bb94-4df3-9e37-201a05e92a6b",
   "metadata": {},
   "source": [
    "This is the smallest quadratic example for which all $p$-curvatures will vanish (and $2$ is exceptional) for $p<47$, and the $47$ will not vanish."
   ]
  },
  {
   "cell_type": "code",
   "execution_count": 38,
   "id": "ee47b412-08f8-42c1-a342-5900201b065a",
   "metadata": {},
   "outputs": [
    {
     "name": "stdout",
     "output_type": "stream",
     "text": [
      "CPU times: user 7.67 ms, sys: 0 ns, total: 7.67 ms\n",
      "Wall time: 7.32 ms\n"
     ]
    },
    {
     "data": {
      "text/html": [
       "<html>\\(\\displaystyle \\left(\\verb|transcendental|, 47\\right)\\)</html>"
      ],
      "text/latex": [
       "$\\displaystyle \\left(\\verb|transcendental|, 47\\right)$"
      ],
      "text/plain": [
       "('transcendental', 47)"
      ]
     },
     "execution_count": 38,
     "metadata": {},
     "output_type": "execute_result"
    }
   ],
   "source": [
    "%time Honda(a,b)"
   ]
  },
  {
   "cell_type": "code",
   "execution_count": 39,
   "id": "8f5ea1d2-706c-40c6-abb6-48e9f7dded1a",
   "metadata": {},
   "outputs": [],
   "source": [
    "a = 2*x+1\n",
    "b = x^2+x+1"
   ]
  },
  {
   "cell_type": "code",
   "execution_count": 40,
   "id": "1997b573-14b3-4bdd-8d96-d4d00f57c130",
   "metadata": {},
   "outputs": [
    {
     "data": {
      "text/html": [
       "<html>\\(\\displaystyle 3851774\\)</html>"
      ],
      "text/latex": [
       "$\\displaystyle 3851774$"
      ],
      "text/plain": [
       "3851774"
      ]
     },
     "execution_count": 40,
     "metadata": {},
     "output_type": "execute_result"
    }
   ],
   "source": [
    "sigma(a,b)"
   ]
  },
  {
   "cell_type": "code",
   "execution_count": 41,
   "id": "8bf0c380-bd91-4d27-b0f4-cb874465900e",
   "metadata": {},
   "outputs": [
    {
     "name": "stdout",
     "output_type": "stream",
     "text": [
      "CPU times: user 30.3 s, sys: 14.8 ms, total: 30.3 s\n",
      "Wall time: 30.3 s\n"
     ]
    }
   ],
   "source": [
    "%time Timepcurvs(a,b,10^5)"
   ]
  },
  {
   "cell_type": "markdown",
   "id": "540f7057-b641-4b66-ba1d-7de9c4a42ff2",
   "metadata": {},
   "source": [
    "Computing all $p$-curvatures up to $\\sigma = 3851774$ is not a possibility."
   ]
  },
  {
   "cell_type": "markdown",
   "id": "13f9b921-66a9-461f-a3fd-f6469c143f72",
   "metadata": {
    "jp-MarkdownHeadingCollapsed": true
   },
   "source": [
    "#### Small transcendental example"
   ]
  },
  {
   "cell_type": "code",
   "execution_count": 54,
   "id": "5375047a-36f2-4c22-a8a1-f091f35f3395",
   "metadata": {},
   "outputs": [],
   "source": [
    "%display plain"
   ]
  },
  {
   "cell_type": "code",
   "execution_count": 55,
   "id": "4ad3ad98-2b85-4abc-ac61-c617ce680fae",
   "metadata": {},
   "outputs": [],
   "source": [
    "a = 7*x^2-3*x-4\n",
    "b = 2*(x^3+2*x^2-3*x+2)"
   ]
  },
  {
   "cell_type": "code",
   "execution_count": 56,
   "id": "3098f822-4d01-4e49-922c-bd2a2ba3fe7f",
   "metadata": {},
   "outputs": [
    {
     "data": {
      "text/plain": [
       "6393533718461168896735722504"
      ]
     },
     "execution_count": 56,
     "metadata": {},
     "output_type": "execute_result"
    }
   ],
   "source": [
    "sigma(a,b)"
   ]
  },
  {
   "cell_type": "code",
   "execution_count": 57,
   "id": "cae20e79-b58a-4d9d-8c18-f7f2fa34fdf4",
   "metadata": {},
   "outputs": [
    {
     "name": "stdout",
     "output_type": "stream",
     "text": [
      "CPU times: user 5.07 ms, sys: 1 μs, total: 5.07 ms\n",
      "Wall time: 4.96 ms\n"
     ]
    },
    {
     "data": {
      "text/plain": [
       "('transcendental', 5)"
      ]
     },
     "execution_count": 57,
     "metadata": {},
     "output_type": "execute_result"
    }
   ],
   "source": [
    "%time Honda(a,b)"
   ]
  },
  {
   "cell_type": "code",
   "execution_count": 58,
   "id": "875fda26-76e1-4f24-98d3-d72cd13683e3",
   "metadata": {},
   "outputs": [
    {
     "name": "stdout",
     "output_type": "stream",
     "text": [
      "CPU times: user 484 μs, sys: 2 μs, total: 486 μs\n",
      "Wall time: 488 μs\n"
     ]
    },
    {
     "data": {
      "text/plain": [
       "'transcendental'"
      ]
     },
     "execution_count": 58,
     "metadata": {},
     "output_type": "execute_result"
    }
   ],
   "source": [
    "%time CompFactor(a,b)"
   ]
  },
  {
   "cell_type": "markdown",
   "id": "d7b3db56-7033-4029-9d46-010e21563b91",
   "metadata": {
    "jp-MarkdownHeadingCollapsed": true
   },
   "source": [
    "#### Large random (hence transcendental) examples"
   ]
  },
  {
   "cell_type": "code",
   "execution_count": 59,
   "id": "4842ed33-4985-485a-89ec-588a2bcfd4b5",
   "metadata": {},
   "outputs": [],
   "source": [
    "import time"
   ]
  },
  {
   "cell_type": "code",
   "execution_count": 63,
   "id": "1880debe-ec94-47ae-b036-a14bb2697761",
   "metadata": {},
   "outputs": [],
   "source": [
    "def RandComp(n,H,S):\n",
    "    \"\"\"\n",
    "    n, H, S are positive integers.\n",
    "    Creates a sample of S rational functions a/b with integer coefficients between -H and H, deg(b)=n, deg(a)<n.\n",
    "    For each of them computes Honda(a,b) and CompFactor(a,b), and measures the time.\n",
    "    Returns the average runtime of each function, and the maximal prime that allowed Honda to conclude on transcendence.\n",
    "    \"\"\"\n",
    "    A.<x> = QQ[]\n",
    "    THond = 0\n",
    "    Tfact = 0\n",
    "    max_p = 1\n",
    "    for i in range(S):\n",
    "        a = A([randint(-H,H) for i in range(n)])\n",
    "        b = A([randint(-H,H) for i in range(n)]+[randint(1,H)])\n",
    "        t0 = time.time()\n",
    "        s, p = Honda(a,b)\n",
    "        dt = time.time()-t0\n",
    "        THond += dt\n",
    "        if p>max_p:\n",
    "            max_p=p\n",
    "        t1 = time.time()\n",
    "        CompFactor(a,b)\n",
    "        dt = time.time()-t1\n",
    "        Tfact += dt\n",
    "    return THond/S, max_p, Tfact/S"
   ]
  },
  {
   "cell_type": "code",
   "execution_count": 65,
   "id": "339e993c-834e-41c0-9110-cc8c55805739",
   "metadata": {},
   "outputs": [],
   "source": [
    "n=20\n",
    "H=2^20\n",
    "S=50"
   ]
  },
  {
   "cell_type": "code",
   "execution_count": 66,
   "id": "28c1d78b-54b6-41fa-8aa7-77d36e5ba060",
   "metadata": {},
   "outputs": [
    {
     "name": "stdout",
     "output_type": "stream",
     "text": [
      "CPU times: user 446 ms, sys: 1.01 ms, total: 447 ms\n",
      "Wall time: 446 ms\n"
     ]
    },
    {
     "data": {
      "text/plain": [
       "(0.0020928525924682616, 13, 0.006773462295532226)"
      ]
     },
     "execution_count": 66,
     "metadata": {},
     "output_type": "execute_result"
    }
   ],
   "source": [
    "%time RandComp(n,H,S)"
   ]
  },
  {
   "cell_type": "markdown",
   "id": "9498888d-af8a-484d-b81f-c5668406ac2b",
   "metadata": {},
   "source": [
    "The function RandComp was used to make the table of comparisons on large example."
   ]
  },
  {
   "cell_type": "markdown",
   "id": "30aef03e-e14c-4415-91c8-8ad52110a4f0",
   "metadata": {
    "jp-MarkdownHeadingCollapsed": true
   },
   "source": [
    "#### Galactic examples"
   ]
  },
  {
   "cell_type": "markdown",
   "id": "8b69164c-b50a-4ead-a531-b0af72e32b31",
   "metadata": {},
   "source": [
    "We are looking for the limits of our algorithm (that is heights and degrees for which computing only a few $p$-curvatures takes more than a few seconds).\n",
    "The approach is the same as in the previous block of cells, random hence transcendental examples, but this time on samples of very small size."
   ]
  },
  {
   "cell_type": "code",
   "execution_count": 73,
   "id": "7fd2b924-e8fc-4cec-9108-3167c1c0511b",
   "metadata": {},
   "outputs": [],
   "source": [
    "H = 2^(128)\n",
    "n = 1000"
   ]
  },
  {
   "cell_type": "code",
   "execution_count": 74,
   "id": "ba836eca-0e71-4e66-b726-fa788f4b0485",
   "metadata": {},
   "outputs": [],
   "source": [
    "a = A([randint(-H,H) for i in range(n)])\n",
    "b = A([randint(-H,H) for i in range(n)]+[randint(1,H)])"
   ]
  },
  {
   "cell_type": "code",
   "execution_count": 75,
   "id": "f9fb1df1-d2d0-4a8f-b359-479c36aa6491",
   "metadata": {},
   "outputs": [
    {
     "name": "stdout",
     "output_type": "stream",
     "text": [
      "CPU times: user 10.7 s, sys: 30 ms, total: 10.7 s\n",
      "Wall time: 10.7 s\n"
     ]
    },
    {
     "data": {
      "text/plain": [
       "('transcendental', 3)"
      ]
     },
     "execution_count": 75,
     "metadata": {},
     "output_type": "execute_result"
    }
   ],
   "source": [
    "%time Honda(a,b)"
   ]
  }
 ],
 "metadata": {
  "kernelspec": {
   "display_name": "SageMath 10.4",
   "language": "sage",
   "name": "sagemath"
  },
  "language_info": {
   "codemirror_mode": {
    "name": "ipython",
    "version": 3
   },
   "file_extension": ".py",
   "mimetype": "text/x-python",
   "name": "python",
   "nbconvert_exporter": "python",
   "pygments_lexer": "ipython3",
   "version": "3.12.7"
  }
 },
 "nbformat": 4,
 "nbformat_minor": 5
}
